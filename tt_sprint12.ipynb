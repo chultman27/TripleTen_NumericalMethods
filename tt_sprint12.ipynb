{
 "cells": [
  {
   "cell_type": "markdown",
   "metadata": {},
   "source": [
    "## Introduction\n",
    "Rusty Bargain used car sales service is developing an app to attract new customers. In that app, you can quickly find out the market value of your car. You have access to historical data: technical specifications, trim versions, and prices. You need to build the model to determine the value. \n",
    "\n",
    "Rusty Bargain is interested in:\n",
    "\n",
    "- the quality of the prediction;\n",
    "- the speed of the prediction;\n",
    "- the time required for training"
   ]
  },
  {
   "cell_type": "markdown",
   "metadata": {},
   "source": [
    "## Data Preparation"
   ]
  },
  {
   "cell_type": "markdown",
   "metadata": {},
   "source": [
    "In order to prepare the data for model training, multiple steps must be taken to ensure that it is compatible for this process. These steps include:\n",
    "1) Remove any duplicate rows\n",
    "2) Dropping features that will not impact car price directly. it is not likely that features such as when the app is accessed will directly impact car price. These will only add clutter to our data set and cause issues with model performance ('DateCrawled', 'DateCreated','NumberOfPictures', 'LastSeen')\n",
    "3) Deal with missing values \n",
    "4) Changing postal code data so that it is easier to encode. Using it to isolate regions and keep regional data without making the postal codes difficult to encode or to cause overfitting.\n",
    "5) Complete any necessary data type conversions/Encoding decisions"
   ]
  },
  {
   "cell_type": "markdown",
   "metadata": {},
   "source": [
    "### Import Libraries and Data"
   ]
  },
  {
   "cell_type": "code",
   "execution_count": 1,
   "metadata": {},
   "outputs": [],
   "source": [
    "#import libraries\n",
    "import pandas as pd\n",
    "import numpy as np\n",
    "from sklearn.model_selection import train_test_split\n",
    "from sklearn.linear_model import LinearRegression\n",
    "from sklearn.preprocessing import StandardScaler\n",
    "from sklearn.ensemble import RandomForestRegressor\n",
    "from sklearn.model_selection import RandomizedSearchCV\n",
    "from sklearn.metrics import mean_squared_error\n",
    "import lightgbm as lgb\n",
    "import matplotlib.pyplot as plt"
   ]
  },
  {
   "cell_type": "code",
   "execution_count": 2,
   "metadata": {},
   "outputs": [
    {
     "name": "stdout",
     "output_type": "stream",
     "text": [
      "<class 'pandas.core.frame.DataFrame'>\n",
      "RangeIndex: 354369 entries, 0 to 354368\n",
      "Data columns (total 16 columns):\n",
      " #   Column             Non-Null Count   Dtype \n",
      "---  ------             --------------   ----- \n",
      " 0   DateCrawled        354369 non-null  object\n",
      " 1   Price              354369 non-null  int64 \n",
      " 2   VehicleType        316879 non-null  object\n",
      " 3   RegistrationYear   354369 non-null  int64 \n",
      " 4   Gearbox            334536 non-null  object\n",
      " 5   Power              354369 non-null  int64 \n",
      " 6   Model              334664 non-null  object\n",
      " 7   Mileage            354369 non-null  int64 \n",
      " 8   RegistrationMonth  354369 non-null  int64 \n",
      " 9   FuelType           321474 non-null  object\n",
      " 10  Brand              354369 non-null  object\n",
      " 11  NotRepaired        283215 non-null  object\n",
      " 12  DateCreated        354369 non-null  object\n",
      " 13  NumberOfPictures   354369 non-null  int64 \n",
      " 14  PostalCode         354369 non-null  int64 \n",
      " 15  LastSeen           354369 non-null  object\n",
      "dtypes: int64(7), object(9)\n",
      "memory usage: 43.3+ MB\n"
     ]
    },
    {
     "data": {
      "text/plain": [
       "None"
      ]
     },
     "metadata": {},
     "output_type": "display_data"
    },
    {
     "data": {
      "text/html": [
       "<div>\n",
       "<style scoped>\n",
       "    .dataframe tbody tr th:only-of-type {\n",
       "        vertical-align: middle;\n",
       "    }\n",
       "\n",
       "    .dataframe tbody tr th {\n",
       "        vertical-align: top;\n",
       "    }\n",
       "\n",
       "    .dataframe thead th {\n",
       "        text-align: right;\n",
       "    }\n",
       "</style>\n",
       "<table border=\"1\" class=\"dataframe\">\n",
       "  <thead>\n",
       "    <tr style=\"text-align: right;\">\n",
       "      <th></th>\n",
       "      <th>DateCrawled</th>\n",
       "      <th>Price</th>\n",
       "      <th>VehicleType</th>\n",
       "      <th>RegistrationYear</th>\n",
       "      <th>Gearbox</th>\n",
       "      <th>Power</th>\n",
       "      <th>Model</th>\n",
       "      <th>Mileage</th>\n",
       "      <th>RegistrationMonth</th>\n",
       "      <th>FuelType</th>\n",
       "      <th>Brand</th>\n",
       "      <th>NotRepaired</th>\n",
       "      <th>DateCreated</th>\n",
       "      <th>NumberOfPictures</th>\n",
       "      <th>PostalCode</th>\n",
       "      <th>LastSeen</th>\n",
       "    </tr>\n",
       "  </thead>\n",
       "  <tbody>\n",
       "    <tr>\n",
       "      <th>0</th>\n",
       "      <td>24/03/2016 11:52</td>\n",
       "      <td>480</td>\n",
       "      <td>NaN</td>\n",
       "      <td>1993</td>\n",
       "      <td>manual</td>\n",
       "      <td>0</td>\n",
       "      <td>golf</td>\n",
       "      <td>150000</td>\n",
       "      <td>0</td>\n",
       "      <td>petrol</td>\n",
       "      <td>volkswagen</td>\n",
       "      <td>NaN</td>\n",
       "      <td>24/03/2016 00:00</td>\n",
       "      <td>0</td>\n",
       "      <td>70435</td>\n",
       "      <td>07/04/2016 03:16</td>\n",
       "    </tr>\n",
       "    <tr>\n",
       "      <th>1</th>\n",
       "      <td>24/03/2016 10:58</td>\n",
       "      <td>18300</td>\n",
       "      <td>coupe</td>\n",
       "      <td>2011</td>\n",
       "      <td>manual</td>\n",
       "      <td>190</td>\n",
       "      <td>NaN</td>\n",
       "      <td>125000</td>\n",
       "      <td>5</td>\n",
       "      <td>gasoline</td>\n",
       "      <td>audi</td>\n",
       "      <td>yes</td>\n",
       "      <td>24/03/2016 00:00</td>\n",
       "      <td>0</td>\n",
       "      <td>66954</td>\n",
       "      <td>07/04/2016 01:46</td>\n",
       "    </tr>\n",
       "    <tr>\n",
       "      <th>2</th>\n",
       "      <td>14/03/2016 12:52</td>\n",
       "      <td>9800</td>\n",
       "      <td>suv</td>\n",
       "      <td>2004</td>\n",
       "      <td>auto</td>\n",
       "      <td>163</td>\n",
       "      <td>grand</td>\n",
       "      <td>125000</td>\n",
       "      <td>8</td>\n",
       "      <td>gasoline</td>\n",
       "      <td>jeep</td>\n",
       "      <td>NaN</td>\n",
       "      <td>14/03/2016 00:00</td>\n",
       "      <td>0</td>\n",
       "      <td>90480</td>\n",
       "      <td>05/04/2016 12:47</td>\n",
       "    </tr>\n",
       "    <tr>\n",
       "      <th>3</th>\n",
       "      <td>17/03/2016 16:54</td>\n",
       "      <td>1500</td>\n",
       "      <td>small</td>\n",
       "      <td>2001</td>\n",
       "      <td>manual</td>\n",
       "      <td>75</td>\n",
       "      <td>golf</td>\n",
       "      <td>150000</td>\n",
       "      <td>6</td>\n",
       "      <td>petrol</td>\n",
       "      <td>volkswagen</td>\n",
       "      <td>no</td>\n",
       "      <td>17/03/2016 00:00</td>\n",
       "      <td>0</td>\n",
       "      <td>91074</td>\n",
       "      <td>17/03/2016 17:40</td>\n",
       "    </tr>\n",
       "    <tr>\n",
       "      <th>4</th>\n",
       "      <td>31/03/2016 17:25</td>\n",
       "      <td>3600</td>\n",
       "      <td>small</td>\n",
       "      <td>2008</td>\n",
       "      <td>manual</td>\n",
       "      <td>69</td>\n",
       "      <td>fabia</td>\n",
       "      <td>90000</td>\n",
       "      <td>7</td>\n",
       "      <td>gasoline</td>\n",
       "      <td>skoda</td>\n",
       "      <td>no</td>\n",
       "      <td>31/03/2016 00:00</td>\n",
       "      <td>0</td>\n",
       "      <td>60437</td>\n",
       "      <td>06/04/2016 10:17</td>\n",
       "    </tr>\n",
       "  </tbody>\n",
       "</table>\n",
       "</div>"
      ],
      "text/plain": [
       "        DateCrawled  Price VehicleType  RegistrationYear Gearbox  Power  \\\n",
       "0  24/03/2016 11:52    480         NaN              1993  manual      0   \n",
       "1  24/03/2016 10:58  18300       coupe              2011  manual    190   \n",
       "2  14/03/2016 12:52   9800         suv              2004    auto    163   \n",
       "3  17/03/2016 16:54   1500       small              2001  manual     75   \n",
       "4  31/03/2016 17:25   3600       small              2008  manual     69   \n",
       "\n",
       "   Model  Mileage  RegistrationMonth  FuelType       Brand NotRepaired  \\\n",
       "0   golf   150000                  0    petrol  volkswagen         NaN   \n",
       "1    NaN   125000                  5  gasoline        audi         yes   \n",
       "2  grand   125000                  8  gasoline        jeep         NaN   \n",
       "3   golf   150000                  6    petrol  volkswagen          no   \n",
       "4  fabia    90000                  7  gasoline       skoda          no   \n",
       "\n",
       "        DateCreated  NumberOfPictures  PostalCode          LastSeen  \n",
       "0  24/03/2016 00:00                 0       70435  07/04/2016 03:16  \n",
       "1  24/03/2016 00:00                 0       66954  07/04/2016 01:46  \n",
       "2  14/03/2016 00:00                 0       90480  05/04/2016 12:47  \n",
       "3  17/03/2016 00:00                 0       91074  17/03/2016 17:40  \n",
       "4  31/03/2016 00:00                 0       60437  06/04/2016 10:17  "
      ]
     },
     "metadata": {},
     "output_type": "display_data"
    }
   ],
   "source": [
    "df = pd.read_csv('/datasets/car_data.csv')\n",
    "display(df.info())\n",
    "display(df.head(5))"
   ]
  },
  {
   "cell_type": "code",
   "execution_count": 3,
   "metadata": {},
   "outputs": [],
   "source": [
    "#convert df to all lower case\n",
    "#all data should be lower case to avoid issues\n",
    "def convert_to_lower(df):\n",
    "    for column in df.columns:\n",
    "        if df[column].dtype == 'object':\n",
    "            if df[column].str.contains('[A-Z]').any():\n",
    "                df[column] = df[column].str.lower()\n",
    "    return df\n",
    "df = convert_to_lower(df)\n",
    "df.columns = df.columns.str.replace(r'(?<!^)(?=[A-Z])', '_', regex=True).str.lower()"
   ]
  },
  {
   "cell_type": "markdown",
   "metadata": {},
   "source": [
    "### Duplicate Rows"
   ]
  },
  {
   "cell_type": "code",
   "execution_count": 4,
   "metadata": {},
   "outputs": [
    {
     "name": "stdout",
     "output_type": "stream",
     "text": [
      "There are 262 duplicated rows in the data frame.\n",
      "There are now 0 duplicated rows in the data frame.\n",
      "<class 'pandas.core.frame.DataFrame'>\n",
      "Int64Index: 354107 entries, 0 to 354368\n",
      "Data columns (total 16 columns):\n",
      " #   Column              Non-Null Count   Dtype \n",
      "---  ------              --------------   ----- \n",
      " 0   date_crawled        354107 non-null  object\n",
      " 1   price               354107 non-null  int64 \n",
      " 2   vehicle_type        316623 non-null  object\n",
      " 3   registration_year   354107 non-null  int64 \n",
      " 4   gearbox             334277 non-null  object\n",
      " 5   power               354107 non-null  int64 \n",
      " 6   model               334406 non-null  object\n",
      " 7   mileage             354107 non-null  int64 \n",
      " 8   registration_month  354107 non-null  int64 \n",
      " 9   fuel_type           321218 non-null  object\n",
      " 10  brand               354107 non-null  object\n",
      " 11  not_repaired        282962 non-null  object\n",
      " 12  date_created        354107 non-null  object\n",
      " 13  number_of_pictures  354107 non-null  int64 \n",
      " 14  postal_code         354107 non-null  int64 \n",
      " 15  last_seen           354107 non-null  object\n",
      "dtypes: int64(7), object(9)\n",
      "memory usage: 45.9+ MB\n",
      "None\n"
     ]
    }
   ],
   "source": [
    "#drop duplicate rows\n",
    "num_duplicates = df.duplicated().sum()\n",
    "print(f\"There are {num_duplicates} duplicated rows in the data frame.\")\n",
    "\n",
    "df = df.drop_duplicates()\n",
    "num_duplicates2 = df.duplicated().sum()\n",
    "print(f\"There are now {num_duplicates2} duplicated rows in the data frame.\")\n",
    "print(df.info())"
   ]
  },
  {
   "cell_type": "markdown",
   "metadata": {},
   "source": [
    "### Feature Dropping"
   ]
  },
  {
   "cell_type": "code",
   "execution_count": 5,
   "metadata": {},
   "outputs": [
    {
     "name": "stdout",
     "output_type": "stream",
     "text": [
      "<class 'pandas.core.frame.DataFrame'>\n",
      "Int64Index: 334351 entries, 0 to 354368\n",
      "Data columns (total 14 columns):\n",
      " #   Column              Non-Null Count   Dtype \n",
      "---  ------              --------------   ----- \n",
      " 0   price               334351 non-null  int64 \n",
      " 1   vehicle_type        316574 non-null  object\n",
      " 2   registration_year   334351 non-null  int64 \n",
      " 3   gearbox             316868 non-null  object\n",
      " 4   power               334351 non-null  int64 \n",
      " 5   model               317363 non-null  object\n",
      " 6   mileage             334351 non-null  int64 \n",
      " 7   registration_month  334351 non-null  int64 \n",
      " 8   fuel_type           309160 non-null  object\n",
      " 9   brand               334351 non-null  object\n",
      " 10  not_repaired        271672 non-null  object\n",
      " 11  postal_code         334351 non-null  int64 \n",
      " 12  date_crawled_year   334351 non-null  int64 \n",
      " 13  date_crawled_month  334351 non-null  int64 \n",
      "dtypes: int64(8), object(6)\n",
      "memory usage: 38.3+ MB\n",
      "None\n"
     ]
    }
   ],
   "source": [
    "#registration_year CANNOT be after date_crawled\n",
    "df['date_crawled'] = pd.to_datetime(df['date_crawled'], format='%d/%m/%Y %H:%M')\n",
    "df['date_crawled_year'] = df['date_crawled'].dt.year\n",
    "df['date_crawled_month'] = df['date_crawled'].dt.month\n",
    "df = df[~((df['registration_year'] > df['date_crawled_year']) | \n",
    "          ((df['registration_year'] == df['date_crawled_year']) & \n",
    "           (df['registration_month'] > df['date_crawled_month'])))]\n",
    "\n",
    "#dropping features that do no impact car price\n",
    "columns_to_drop = ['date_crawled', 'date_created','number_of_pictures', 'last_seen']\n",
    "dropped_df = df[columns_to_drop].copy()\n",
    "df = df.drop(columns=columns_to_drop)\n",
    "print(df.info())"
   ]
  },
  {
   "cell_type": "markdown",
   "metadata": {},
   "source": [
    "### Missing Values"
   ]
  },
  {
   "cell_type": "code",
   "execution_count": 6,
   "metadata": {},
   "outputs": [
    {
     "name": "stdout",
     "output_type": "stream",
     "text": [
      "8\n",
      "17777\n",
      "<class 'pandas.core.frame.DataFrame'>\n",
      "Int64Index: 334351 entries, 0 to 354368\n",
      "Data columns (total 14 columns):\n",
      " #   Column              Non-Null Count   Dtype \n",
      "---  ------              --------------   ----- \n",
      " 0   price               334351 non-null  int64 \n",
      " 1   vehicle_type        334351 non-null  object\n",
      " 2   registration_year   334351 non-null  int64 \n",
      " 3   gearbox             316868 non-null  object\n",
      " 4   power               334351 non-null  int64 \n",
      " 5   model               317363 non-null  object\n",
      " 6   mileage             334351 non-null  int64 \n",
      " 7   registration_month  334351 non-null  int64 \n",
      " 8   fuel_type           309160 non-null  object\n",
      " 9   brand               334351 non-null  object\n",
      " 10  not_repaired        271672 non-null  object\n",
      " 11  postal_code         334351 non-null  int64 \n",
      " 12  date_crawled_year   334351 non-null  int64 \n",
      " 13  date_crawled_month  334351 non-null  int64 \n",
      "dtypes: int64(8), object(6)\n",
      "memory usage: 38.3+ MB\n",
      "None\n"
     ]
    }
   ],
   "source": [
    "#dealing with missing values\n",
    "#VehicleType column\n",
    "print(df['vehicle_type'].nunique())\n",
    "print(df['vehicle_type'].isna().sum())\n",
    "df['vehicle_type'] = df['vehicle_type'].fillna('not_listed')\n",
    "print(df.info())"
   ]
  },
  {
   "cell_type": "code",
   "execution_count": 7,
   "metadata": {},
   "outputs": [
    {
     "name": "stdout",
     "output_type": "stream",
     "text": [
      "2\n",
      "17483\n",
      "<class 'pandas.core.frame.DataFrame'>\n",
      "Int64Index: 334351 entries, 0 to 354368\n",
      "Data columns (total 14 columns):\n",
      " #   Column              Non-Null Count   Dtype \n",
      "---  ------              --------------   ----- \n",
      " 0   price               334351 non-null  int64 \n",
      " 1   vehicle_type        334351 non-null  object\n",
      " 2   registration_year   334351 non-null  int64 \n",
      " 3   gearbox             334351 non-null  object\n",
      " 4   power               334351 non-null  int64 \n",
      " 5   model               317363 non-null  object\n",
      " 6   mileage             334351 non-null  int64 \n",
      " 7   registration_month  334351 non-null  int64 \n",
      " 8   fuel_type           309160 non-null  object\n",
      " 9   brand               334351 non-null  object\n",
      " 10  not_repaired        271672 non-null  object\n",
      " 11  postal_code         334351 non-null  int64 \n",
      " 12  date_crawled_year   334351 non-null  int64 \n",
      " 13  date_crawled_month  334351 non-null  int64 \n",
      "dtypes: int64(8), object(6)\n",
      "memory usage: 38.3+ MB\n",
      "None\n"
     ]
    }
   ],
   "source": [
    "#Missing Values, Gearbox Column\n",
    "print(df['gearbox'].nunique())\n",
    "print(df['gearbox'].isna().sum())\n",
    "df['gearbox'] = df['gearbox'].fillna('not_listed')\n",
    "print(df.info())"
   ]
  },
  {
   "cell_type": "code",
   "execution_count": 8,
   "metadata": {},
   "outputs": [
    {
     "name": "stdout",
     "output_type": "stream",
     "text": [
      "250\n",
      "16988\n",
      "<class 'pandas.core.frame.DataFrame'>\n",
      "Int64Index: 334351 entries, 0 to 354368\n",
      "Data columns (total 14 columns):\n",
      " #   Column              Non-Null Count   Dtype \n",
      "---  ------              --------------   ----- \n",
      " 0   price               334351 non-null  int64 \n",
      " 1   vehicle_type        334351 non-null  object\n",
      " 2   registration_year   334351 non-null  int64 \n",
      " 3   gearbox             334351 non-null  object\n",
      " 4   power               334351 non-null  int64 \n",
      " 5   model               334351 non-null  object\n",
      " 6   mileage             334351 non-null  int64 \n",
      " 7   registration_month  334351 non-null  int64 \n",
      " 8   fuel_type           309160 non-null  object\n",
      " 9   brand               334351 non-null  object\n",
      " 10  not_repaired        271672 non-null  object\n",
      " 11  postal_code         334351 non-null  int64 \n",
      " 12  date_crawled_year   334351 non-null  int64 \n",
      " 13  date_crawled_month  334351 non-null  int64 \n",
      "dtypes: int64(8), object(6)\n",
      "memory usage: 38.3+ MB\n",
      "None\n"
     ]
    }
   ],
   "source": [
    "#Missing Values, Model column\n",
    "print(df['model'].nunique())\n",
    "print(df['model'].isna().sum())\n",
    "df['model'] = df['model'].fillna('not_listed')\n",
    "print(df.info())"
   ]
  },
  {
   "cell_type": "code",
   "execution_count": 9,
   "metadata": {},
   "outputs": [
    {
     "name": "stdout",
     "output_type": "stream",
     "text": [
      "7\n",
      "25191\n",
      "<class 'pandas.core.frame.DataFrame'>\n",
      "Int64Index: 334351 entries, 0 to 354368\n",
      "Data columns (total 14 columns):\n",
      " #   Column              Non-Null Count   Dtype \n",
      "---  ------              --------------   ----- \n",
      " 0   price               334351 non-null  int64 \n",
      " 1   vehicle_type        334351 non-null  object\n",
      " 2   registration_year   334351 non-null  int64 \n",
      " 3   gearbox             334351 non-null  object\n",
      " 4   power               334351 non-null  int64 \n",
      " 5   model               334351 non-null  object\n",
      " 6   mileage             334351 non-null  int64 \n",
      " 7   registration_month  334351 non-null  int64 \n",
      " 8   fuel_type           334351 non-null  object\n",
      " 9   brand               334351 non-null  object\n",
      " 10  not_repaired        271672 non-null  object\n",
      " 11  postal_code         334351 non-null  int64 \n",
      " 12  date_crawled_year   334351 non-null  int64 \n",
      " 13  date_crawled_month  334351 non-null  int64 \n",
      "dtypes: int64(8), object(6)\n",
      "memory usage: 38.3+ MB\n",
      "None\n"
     ]
    }
   ],
   "source": [
    "#Missing Values, FuelType column\n",
    "print(df['fuel_type'].nunique())\n",
    "print(df['fuel_type'].isna().sum())\n",
    "df['fuel_type'] = df['fuel_type'].fillna('not_listed')\n",
    "print(df.info())"
   ]
  },
  {
   "cell_type": "code",
   "execution_count": 10,
   "metadata": {},
   "outputs": [
    {
     "name": "stdout",
     "output_type": "stream",
     "text": [
      "2\n",
      "62679\n",
      "<class 'pandas.core.frame.DataFrame'>\n",
      "Int64Index: 334351 entries, 0 to 354368\n",
      "Data columns (total 14 columns):\n",
      " #   Column              Non-Null Count   Dtype \n",
      "---  ------              --------------   ----- \n",
      " 0   price               334351 non-null  int64 \n",
      " 1   vehicle_type        334351 non-null  object\n",
      " 2   registration_year   334351 non-null  int64 \n",
      " 3   gearbox             334351 non-null  object\n",
      " 4   power               334351 non-null  int64 \n",
      " 5   model               334351 non-null  object\n",
      " 6   mileage             334351 non-null  int64 \n",
      " 7   registration_month  334351 non-null  int64 \n",
      " 8   fuel_type           334351 non-null  object\n",
      " 9   brand               334351 non-null  object\n",
      " 10  not_repaired        334351 non-null  object\n",
      " 11  postal_code         334351 non-null  int64 \n",
      " 12  date_crawled_year   334351 non-null  int64 \n",
      " 13  date_crawled_month  334351 non-null  int64 \n",
      "dtypes: int64(8), object(6)\n",
      "memory usage: 38.3+ MB\n",
      "None\n"
     ]
    }
   ],
   "source": [
    "#Missing Values, NotRepaired column\n",
    "print(df['not_repaired'].nunique())\n",
    "print(df['not_repaired'].isna().sum())\n",
    "df['not_repaired'] = df['not_repaired'].fillna('not_listed')\n",
    "print(df.info())"
   ]
  },
  {
   "cell_type": "code",
   "execution_count": 11,
   "metadata": {},
   "outputs": [
    {
     "name": "stdout",
     "output_type": "stream",
     "text": [
      "<class 'pandas.core.frame.DataFrame'>\n",
      "Int64Index: 304290 entries, 1 to 354368\n",
      "Data columns (total 14 columns):\n",
      " #   Column              Non-Null Count   Dtype \n",
      "---  ------              --------------   ----- \n",
      " 0   price               304290 non-null  int64 \n",
      " 1   vehicle_type        304290 non-null  object\n",
      " 2   registration_year   304290 non-null  int64 \n",
      " 3   gearbox             304290 non-null  object\n",
      " 4   power               304290 non-null  int64 \n",
      " 5   model               304290 non-null  object\n",
      " 6   mileage             304290 non-null  int64 \n",
      " 7   registration_month  304290 non-null  int64 \n",
      " 8   fuel_type           304290 non-null  object\n",
      " 9   brand               304290 non-null  object\n",
      " 10  not_repaired        304290 non-null  object\n",
      " 11  postal_code         304290 non-null  int64 \n",
      " 12  date_crawled_year   304290 non-null  int64 \n",
      " 13  date_crawled_month  304290 non-null  int64 \n",
      "dtypes: int64(8), object(6)\n",
      "memory usage: 34.8+ MB\n",
      "None\n"
     ]
    }
   ],
   "source": [
    "#Remove rows with multiple values not listed\n",
    "not_listed_counts = (df == 'not_listed').sum(axis=1)\n",
    "df = df[not_listed_counts < 2]\n",
    "print(df.info())"
   ]
  },
  {
   "cell_type": "code",
   "execution_count": 12,
   "metadata": {},
   "outputs": [
    {
     "name": "stdout",
     "output_type": "stream",
     "text": [
      "<class 'pandas.core.frame.DataFrame'>\n",
      "Int64Index: 304290 entries, 1 to 354368\n",
      "Data columns (total 14 columns):\n",
      " #   Column              Non-Null Count   Dtype \n",
      "---  ------              --------------   ----- \n",
      " 0   price               304290 non-null  int64 \n",
      " 1   vehicle_type        304290 non-null  object\n",
      " 2   registration_year   304290 non-null  int64 \n",
      " 3   gearbox             304290 non-null  object\n",
      " 4   power               304290 non-null  int64 \n",
      " 5   model               304290 non-null  object\n",
      " 6   mileage             304290 non-null  int64 \n",
      " 7   registration_month  304290 non-null  int64 \n",
      " 8   fuel_type           304290 non-null  object\n",
      " 9   brand               304290 non-null  object\n",
      " 10  not_repaired        304290 non-null  object\n",
      " 11  date_crawled_year   304290 non-null  int64 \n",
      " 12  date_crawled_month  304290 non-null  int64 \n",
      " 13  region              304290 non-null  object\n",
      "dtypes: int64(7), object(7)\n",
      "memory usage: 34.8+ MB\n",
      "None\n"
     ]
    },
    {
     "data": {
      "text/html": [
       "<div>\n",
       "<style scoped>\n",
       "    .dataframe tbody tr th:only-of-type {\n",
       "        vertical-align: middle;\n",
       "    }\n",
       "\n",
       "    .dataframe tbody tr th {\n",
       "        vertical-align: top;\n",
       "    }\n",
       "\n",
       "    .dataframe thead th {\n",
       "        text-align: right;\n",
       "    }\n",
       "</style>\n",
       "<table border=\"1\" class=\"dataframe\">\n",
       "  <thead>\n",
       "    <tr style=\"text-align: right;\">\n",
       "      <th></th>\n",
       "      <th>price</th>\n",
       "      <th>vehicle_type</th>\n",
       "      <th>registration_year</th>\n",
       "      <th>gearbox</th>\n",
       "      <th>power</th>\n",
       "      <th>model</th>\n",
       "      <th>mileage</th>\n",
       "      <th>registration_month</th>\n",
       "      <th>fuel_type</th>\n",
       "      <th>brand</th>\n",
       "      <th>not_repaired</th>\n",
       "      <th>date_crawled_year</th>\n",
       "      <th>date_crawled_month</th>\n",
       "      <th>region</th>\n",
       "    </tr>\n",
       "  </thead>\n",
       "  <tbody>\n",
       "    <tr>\n",
       "      <th>1</th>\n",
       "      <td>18300</td>\n",
       "      <td>coupe</td>\n",
       "      <td>2011</td>\n",
       "      <td>manual</td>\n",
       "      <td>190</td>\n",
       "      <td>not_listed</td>\n",
       "      <td>125000</td>\n",
       "      <td>5</td>\n",
       "      <td>gasoline</td>\n",
       "      <td>audi</td>\n",
       "      <td>yes</td>\n",
       "      <td>2016</td>\n",
       "      <td>3</td>\n",
       "      <td>66</td>\n",
       "    </tr>\n",
       "    <tr>\n",
       "      <th>2</th>\n",
       "      <td>9800</td>\n",
       "      <td>suv</td>\n",
       "      <td>2004</td>\n",
       "      <td>auto</td>\n",
       "      <td>163</td>\n",
       "      <td>grand</td>\n",
       "      <td>125000</td>\n",
       "      <td>8</td>\n",
       "      <td>gasoline</td>\n",
       "      <td>jeep</td>\n",
       "      <td>not_listed</td>\n",
       "      <td>2016</td>\n",
       "      <td>3</td>\n",
       "      <td>90</td>\n",
       "    </tr>\n",
       "    <tr>\n",
       "      <th>3</th>\n",
       "      <td>1500</td>\n",
       "      <td>small</td>\n",
       "      <td>2001</td>\n",
       "      <td>manual</td>\n",
       "      <td>75</td>\n",
       "      <td>golf</td>\n",
       "      <td>150000</td>\n",
       "      <td>6</td>\n",
       "      <td>petrol</td>\n",
       "      <td>volkswagen</td>\n",
       "      <td>no</td>\n",
       "      <td>2016</td>\n",
       "      <td>3</td>\n",
       "      <td>91</td>\n",
       "    </tr>\n",
       "    <tr>\n",
       "      <th>4</th>\n",
       "      <td>3600</td>\n",
       "      <td>small</td>\n",
       "      <td>2008</td>\n",
       "      <td>manual</td>\n",
       "      <td>69</td>\n",
       "      <td>fabia</td>\n",
       "      <td>90000</td>\n",
       "      <td>7</td>\n",
       "      <td>gasoline</td>\n",
       "      <td>skoda</td>\n",
       "      <td>no</td>\n",
       "      <td>2016</td>\n",
       "      <td>3</td>\n",
       "      <td>60</td>\n",
       "    </tr>\n",
       "    <tr>\n",
       "      <th>5</th>\n",
       "      <td>650</td>\n",
       "      <td>sedan</td>\n",
       "      <td>1995</td>\n",
       "      <td>manual</td>\n",
       "      <td>102</td>\n",
       "      <td>3er</td>\n",
       "      <td>150000</td>\n",
       "      <td>10</td>\n",
       "      <td>petrol</td>\n",
       "      <td>bmw</td>\n",
       "      <td>yes</td>\n",
       "      <td>2016</td>\n",
       "      <td>4</td>\n",
       "      <td>33</td>\n",
       "    </tr>\n",
       "  </tbody>\n",
       "</table>\n",
       "</div>"
      ],
      "text/plain": [
       "   price vehicle_type  registration_year gearbox  power       model  mileage  \\\n",
       "1  18300        coupe               2011  manual    190  not_listed   125000   \n",
       "2   9800          suv               2004    auto    163       grand   125000   \n",
       "3   1500        small               2001  manual     75        golf   150000   \n",
       "4   3600        small               2008  manual     69       fabia    90000   \n",
       "5    650        sedan               1995  manual    102         3er   150000   \n",
       "\n",
       "   registration_month fuel_type       brand not_repaired  date_crawled_year  \\\n",
       "1                   5  gasoline        audi          yes               2016   \n",
       "2                   8  gasoline        jeep   not_listed               2016   \n",
       "3                   6    petrol  volkswagen           no               2016   \n",
       "4                   7  gasoline       skoda           no               2016   \n",
       "5                  10    petrol         bmw          yes               2016   \n",
       "\n",
       "   date_crawled_month region  \n",
       "1                   3     66  \n",
       "2                   3     90  \n",
       "3                   3     91  \n",
       "4                   3     60  \n",
       "5                   4     33  "
      ]
     },
     "metadata": {},
     "output_type": "display_data"
    }
   ],
   "source": [
    "#isolate regions using postal code data\n",
    "df['region'] = df['postal_code'].astype(str).str[:2]\n",
    "#drop postal code column\n",
    "df = df.drop(['postal_code'], axis=1)\n",
    "print(df.info())\n",
    "display(df.head(5))"
   ]
  },
  {
   "cell_type": "code",
   "execution_count": 13,
   "metadata": {},
   "outputs": [
    {
     "name": "stdout",
     "output_type": "stream",
     "text": [
      "               price  registration_year          power        mileage  \\\n",
      "count  304290.000000      304290.000000  304290.000000  304290.000000   \n",
      "mean     4744.731789        2002.461819     116.393217  128367.034737   \n",
      "std      4609.905391           6.456546     185.523362   36834.110313   \n",
      "min         0.000000        1600.000000       0.000000    5000.000000   \n",
      "25%      1250.000000        1999.000000      75.000000  125000.000000   \n",
      "50%      3000.000000        2003.000000     109.000000  150000.000000   \n",
      "75%      6900.000000        2007.000000     145.000000  150000.000000   \n",
      "max     20000.000000        2016.000000   20000.000000  150000.000000   \n",
      "\n",
      "       registration_month  date_crawled_year  date_crawled_month  \n",
      "count       304290.000000           304290.0       304290.000000  \n",
      "mean             6.004351             2016.0            3.163288  \n",
      "std              3.586195                0.0            0.369629  \n",
      "min              0.000000             2016.0            3.000000  \n",
      "25%              3.000000             2016.0            3.000000  \n",
      "50%              6.000000             2016.0            3.000000  \n",
      "75%              9.000000             2016.0            3.000000  \n",
      "max             12.000000             2016.0            4.000000  \n"
     ]
    }
   ],
   "source": [
    "print(df.describe())"
   ]
  },
  {
   "cell_type": "code",
   "execution_count": 14,
   "metadata": {},
   "outputs": [
    {
     "data": {
      "image/png": "[encoded data removed]",
      "text/plain": [
       "<Figure size 640x480 with 1 Axes>"
      ]
     },
     "metadata": {},
     "output_type": "display_data"
    },
    {
     "data": {
      "image/png": "[encoded data removed]",
      "text/plain": [
       "<Figure size 640x480 with 1 Axes>"
      ]
     },
     "metadata": {},
     "output_type": "display_data"
    },
    {
     "data": {
      "image/png": "[encoded data removed]",
      "text/plain": [
       "<Figure size 640x480 with 1 Axes>"
      ]
     },
     "metadata": {},
     "output_type": "display_data"
    }
   ],
   "source": [
    "#visualize outlier columns\n",
    "plt.boxplot(df['power'])\n",
    "plt.title('Boxplot of Power')\n",
    "plt.xlabel('Power')\n",
    "plt.show()\n",
    "\n",
    "plt.boxplot(df['price'])\n",
    "plt.title('Boxplot of Price')\n",
    "plt.xlabel('Price USD')\n",
    "plt.show()\n",
    "\n",
    "plt.boxplot(df['registration_year'])\n",
    "plt.title('Boxplot of Registration Year')\n",
    "plt.xlabel('Registration Year')\n",
    "plt.show()"
   ]
  },
  {
   "cell_type": "markdown",
   "metadata": {},
   "source": [
    "### Outlier Modification"
   ]
  },
  {
   "cell_type": "markdown",
   "metadata": {},
   "source": [
    "1) For power: Cars with extrememely low power or extrememly high levels of power are removed as they are unrealistic in a real life context and were probably entered incorrectly.\n",
    "2) Price outliers that represent exrtremely low values or extremely high values indicate errors, completely broken cars, or luxury vehicles which could negatively impact model performance.\n",
    "3) registration years that do not make sense. No car can be registered later than 2025. Cars before 1990 were dropped to encompass a majority of the data and remove any cars that could be considered \"antique\". These niche cases could impact model performance.\n"
   ]
  },
  {
   "cell_type": "code",
   "execution_count": 15,
   "metadata": {},
   "outputs": [
    {
     "name": "stdout",
     "output_type": "stream",
     "text": [
      "<class 'pandas.core.frame.DataFrame'>\n",
      "Int64Index: 252435 entries, 2 to 354368\n",
      "Data columns (total 14 columns):\n",
      " #   Column              Non-Null Count   Dtype \n",
      "---  ------              --------------   ----- \n",
      " 0   price               252435 non-null  int64 \n",
      " 1   vehicle_type        252435 non-null  object\n",
      " 2   registration_year   252435 non-null  int64 \n",
      " 3   gearbox             252435 non-null  object\n",
      " 4   power               252435 non-null  int64 \n",
      " 5   model               252435 non-null  object\n",
      " 6   mileage             252435 non-null  int64 \n",
      " 7   registration_month  252435 non-null  int64 \n",
      " 8   fuel_type           252435 non-null  object\n",
      " 9   brand               252435 non-null  object\n",
      " 10  not_repaired        252435 non-null  object\n",
      " 11  date_crawled_year   252435 non-null  int64 \n",
      " 12  date_crawled_month  252435 non-null  int64 \n",
      " 13  region              252435 non-null  object\n",
      "dtypes: int64(7), object(7)\n",
      "memory usage: 28.9+ MB\n",
      "None\n"
     ]
    }
   ],
   "source": [
    "#drop outliers\n",
    "#remove entries where power is unrealistic\n",
    "df = df[(df['power'] > 20) & (df['power'] < 1000)]\n",
    "\n",
    "#remove price outliers\n",
    "df = df[(df['price'] >= df['price'].quantile(0.05)) & \n",
    "        (df['price'] <= df['price'].quantile(0.95))]\n",
    "\n",
    "#drop registration year outliers \n",
    "df = df[(df['registration_year'] >= df['registration_year'].quantile(0.01)) & \n",
    "        (df['registration_year'] <= df['registration_year'].quantile(0.99))]\n",
    "print(df.info())"
   ]
  },
  {
   "cell_type": "code",
   "execution_count": 16,
   "metadata": {},
   "outputs": [],
   "source": [
    "#drop specified columns from the DataFrame\n",
    "df = df.drop(columns=[\"registration_month\", \"date_crawled_year\", \"date_crawled_month\"])"
   ]
  },
  {
   "cell_type": "code",
   "execution_count": 17,
   "metadata": {},
   "outputs": [
    {
     "name": "stdout",
     "output_type": "stream",
     "text": [
      "There are 19793 duplicated rows in the data frame.\n",
      "There are now 0 duplicated rows in the data frame.\n",
      "<class 'pandas.core.frame.DataFrame'>\n",
      "Int64Index: 232642 entries, 2 to 354368\n",
      "Data columns (total 11 columns):\n",
      " #   Column             Non-Null Count   Dtype \n",
      "---  ------             --------------   ----- \n",
      " 0   price              232642 non-null  int64 \n",
      " 1   vehicle_type       232642 non-null  object\n",
      " 2   registration_year  232642 non-null  int64 \n",
      " 3   gearbox            232642 non-null  object\n",
      " 4   power              232642 non-null  int64 \n",
      " 5   model              232642 non-null  object\n",
      " 6   mileage            232642 non-null  int64 \n",
      " 7   fuel_type          232642 non-null  object\n",
      " 8   brand              232642 non-null  object\n",
      " 9   not_repaired       232642 non-null  object\n",
      " 10  region             232642 non-null  object\n",
      "dtypes: int64(4), object(7)\n",
      "memory usage: 21.3+ MB\n",
      "None\n"
     ]
    }
   ],
   "source": [
    "#drop duplicates after column deletion\n",
    "num_duplicates3 = df.duplicated().sum()\n",
    "print(f\"There are {num_duplicates3} duplicated rows in the data frame.\")\n",
    "\n",
    "df = df.drop_duplicates()\n",
    "num_duplicates4 = df.duplicated().sum()\n",
    "print(f\"There are now {num_duplicates4} duplicated rows in the data frame.\")\n",
    "print(df.info())"
   ]
  },
  {
   "cell_type": "code",
   "execution_count": 18,
   "metadata": {},
   "outputs": [
    {
     "name": "stdout",
     "output_type": "stream",
     "text": [
      "<class 'pandas.core.frame.DataFrame'>\n",
      "Int64Index: 232642 entries, 2 to 354368\n",
      "Data columns (total 11 columns):\n",
      " #   Column             Non-Null Count   Dtype \n",
      "---  ------             --------------   ----- \n",
      " 0   price              232642 non-null  int64 \n",
      " 1   vehicle_type       232642 non-null  object\n",
      " 2   registration_year  232642 non-null  int64 \n",
      " 3   gearbox            232642 non-null  object\n",
      " 4   power              232642 non-null  int64 \n",
      " 5   model              232642 non-null  object\n",
      " 6   mileage            232642 non-null  int64 \n",
      " 7   fuel_type          232642 non-null  object\n",
      " 8   brand              232642 non-null  object\n",
      " 9   not_repaired       232642 non-null  object\n",
      " 10  region             232642 non-null  object\n",
      "dtypes: int64(4), object(7)\n",
      "memory usage: 21.3+ MB\n",
      "None\n"
     ]
    }
   ],
   "source": [
    "print(df.info())"
   ]
  },
  {
   "cell_type": "markdown",
   "metadata": {},
   "source": [
    "### Encoding Decisions"
   ]
  },
  {
   "cell_type": "code",
   "execution_count": 19,
   "metadata": {},
   "outputs": [
    {
     "name": "stdout",
     "output_type": "stream",
     "text": [
      "<class 'pandas.core.frame.DataFrame'>\n",
      "Int64Index: 232642 entries, 2 to 354368\n",
      "Columns: 398 entries, price to region_99\n",
      "dtypes: int64(4), uint8(394)\n",
      "memory usage: 96.3 MB\n",
      "None\n"
     ]
    }
   ],
   "source": [
    "df_encoded = pd.get_dummies(df, columns=['vehicle_type', 'gearbox', 'model','fuel_type', 'brand', 'not_repaired', 'region'], drop_first=True)\n",
    "print(df_encoded.info())"
   ]
  },
  {
   "cell_type": "code",
   "execution_count": 20,
   "metadata": {},
   "outputs": [],
   "source": [
    "#create test and training sets for encoded and not encoded data\n",
    "#split into features/target sets\n",
    "#not encoded data\n",
    "X= df.drop(['price'], axis=1)\n",
    "y= df['price']\n",
    "\n",
    "#encoded data\n",
    "Xe= df_encoded.drop(['price'], axis=1)\n",
    "ye= df_encoded['price']"
   ]
  },
  {
   "cell_type": "code",
   "execution_count": 21,
   "metadata": {},
   "outputs": [
    {
     "name": "stdout",
     "output_type": "stream",
     "text": [
      "Xe_train shape: (139585, 397), ye_train shape: (139585,)\n",
      "Xe_val shape: (46528, 397), ye_val shape: (46528,)\n",
      "Xe_test shape: (46529, 397), ye_test shape: (46529,)\n"
     ]
    }
   ],
   "source": [
    "#split encoded data into test, train, and validation sets\n",
    "Xe_train, Xe_temp, ye_train, ye_temp = train_test_split(\n",
    "    Xe, ye, test_size=0.4, random_state=123)\n",
    "\n",
    "#second split\n",
    "Xe_val, Xe_test, ye_val, ye_test = train_test_split(\n",
    "    Xe_temp, ye_temp, test_size=0.5, random_state=123)\n",
    "\n",
    "print(f\"Xe_train shape: {Xe_train.shape}, ye_train shape: {ye_train.shape}\")\n",
    "print(f\"Xe_val shape: {Xe_val.shape}, ye_val shape: {ye_val.shape}\")\n",
    "print(f\"Xe_test shape: {Xe_test.shape}, ye_test shape: {ye_test.shape}\")"
   ]
  },
  {
   "cell_type": "markdown",
   "metadata": {},
   "source": [
    "## Model Training"
   ]
  },
  {
   "cell_type": "markdown",
   "metadata": {},
   "source": [
    "### RandomForest Model - Encoded Data"
   ]
  },
  {
   "cell_type": "code",
   "execution_count": null,
   "metadata": {},
   "outputs": [],
   "source": [
    "%%time\n",
    "#model definition and (randomizedsearchCV)\n",
    "rf_model = RandomForestRegressor(random_state=123)\n",
    "\n",
    "#set up the hyperparameter grid\n",
    "param_dist = {\n",
    "    'n_estimators': [50, 75, 100],\n",
    "    'max_depth': [10, 20, 30, None],\n",
    "    'min_samples_split': [2, 5, 10],\n",
    "    'min_samples_leaf': [1, 2, 4],\n",
    "    'max_features': ['auto', 'sqrt', 'log2']\n",
    "}\n",
    "\n",
    "#randomizedSearchCV\n",
    "random_search = RandomizedSearchCV(\n",
    "    estimator=rf_model,\n",
    "    param_distributions=param_dist,\n",
    "    n_iter=25,\n",
    "    cv=3,\n",
    "    scoring='neg_root_mean_squared_error',\n",
    "    verbose=2,\n",
    "    n_jobs=-1,\n",
    "    random_state=123\n",
    ")"
   ]
  },
  {
   "cell_type": "code",
   "execution_count": null,
   "metadata": {},
   "outputs": [],
   "source": [
    "%%time\n",
    "#hyperparameter tuning/fit data/train model\n",
    "random_search.fit(Xe_train, ye_train)"
   ]
  },
  {
   "cell_type": "code",
   "execution_count": null,
   "metadata": {},
   "outputs": [],
   "source": [
    "%%time\n",
    "#best model and calculations on validation set\n",
    "best_rf = random_search.best_estimator_\n",
    "ye_pred = best_rf.predict(Xe_val)\n",
    "rf_rmse = np.sqrt(mean_squared_error(ye_val, ye_pred))\n",
    "print(f\"The RMSE for the RandomForest Regressor model on the validation set is {rf_rmse}.\")"
   ]
  },
  {
   "cell_type": "markdown",
   "metadata": {},
   "source": [
    "### LightGBM Model"
   ]
  },
  {
   "cell_type": "code",
   "execution_count": null,
   "metadata": {},
   "outputs": [],
   "source": [
    "%%time\n",
    "#model definition and (randomizedsearchCV)\n",
    "lgb_model = lgb.LGBMRegressor(random_state=123)\n",
    "param_dist = {\n",
    "    'num_leaves': [31, 50, 70],\n",
    "    'max_depth': [-1, 10, 20],\n",
    "    'learning_rate': [0.05, 0.1, 0.2],\n",
    "    'n_estimators': [100, 200, 300]\n",
    "    \n",
    "}\n",
    "\n",
    "#randomizedSearchCV with limited combinations\n",
    "random_search = RandomizedSearchCV(\n",
    "    estimator=lgb_model,\n",
    "    param_distributions=param_dist,\n",
    "    n_iter=10,\n",
    "    cv=3,\n",
    "    scoring='neg_root_mean_squared_error',\n",
    "    verbose=2,\n",
    "    random_state=123,\n",
    "    n_jobs=-1\n",
    ")"
   ]
  },
  {
   "cell_type": "code",
   "execution_count": null,
   "metadata": {},
   "outputs": [],
   "source": [
    "%%time\n",
    "#hyperparameter tuning/fit data/train model\n",
    "random_search.fit(Xe_train, ye_train)"
   ]
  },
  {
   "cell_type": "code",
   "execution_count": null,
   "metadata": {},
   "outputs": [],
   "source": [
    "%%time\n",
    "#best model and calculate RMSE score\n",
    "best_lgb = random_search.best_estimator_\n",
    "y_pred_lgb = best_lgb.predict(Xe_val)\n",
    "lgb_rmse = np.sqrt(mean_squared_error(ye_val, y_pred_lgb))\n",
    "print(f\"The RMSE for the LightGBM model on the validation data is {lgb_rmse}.\")"
   ]
  },
  {
   "cell_type": "markdown",
   "metadata": {},
   "source": [
    "### Base Line Model: Linnear Regression - Encoded Data"
   ]
  },
  {
   "cell_type": "code",
   "execution_count": null,
   "metadata": {},
   "outputs": [],
   "source": [
    "%%time\n",
    "#define model\n",
    "lr_model= LinearRegression()"
   ]
  },
  {
   "cell_type": "code",
   "execution_count": null,
   "metadata": {},
   "outputs": [],
   "source": [
    "%%time\n",
    "#train model \n",
    "lr_model = lr_model.fit(Xe_train,ye_train)"
   ]
  },
  {
   "cell_type": "code",
   "execution_count": null,
   "metadata": {},
   "outputs": [],
   "source": [
    "%%time\n",
    "#calculate RMSE score\n",
    "lr_pred = lr_model.predict(Xe_test)\n",
    "lr_mse = mean_squared_error(ye_test, lr_pred)\n",
    "lr_rmse = np.sqrt(lr_mse)\n",
    "print(f\"The RMSE for the Linnear Regression model is {lr_rmse}.\")"
   ]
  },
  {
   "cell_type": "markdown",
   "metadata": {},
   "source": [
    "### Run Best Performing Model on Test Data: LightGBM"
   ]
  },
  {
   "cell_type": "code",
   "execution_count": null,
   "metadata": {},
   "outputs": [],
   "source": [
    "%%time\n",
    "##run LightGBM model on test data\n",
    "#calculate RMSE score\n",
    "best_lgb = random_search.best_estimator_\n",
    "y_pred_lgb_final = best_lgb.predict(Xe_test)\n",
    "lgb_rmse_final = np.sqrt(mean_squared_error(ye_test, y_pred_lgb_final))\n",
    "print(f\"The RMSE for the LightGBM model is {lgb_rmse_final}.\")"
   ]
  },
  {
   "cell_type": "markdown",
   "metadata": {},
   "source": [
    "## Model analysis"
   ]
  },
  {
   "cell_type": "markdown",
   "metadata": {},
   "source": [
    "In this project, three different models were tuned to optimize performance, trained on a training data set, and tested on a validation data set. Each model was assesed for the lowest RMSE and highest speed. \n",
    "\n",
    "All of the models were able to predict the validation data set and calculate the RMSE score in less than five seconds. So when comparing model speeds, looking at hyperparameter tuning, the longest part of the process, gives more insight into difference in model run time. \n",
    "\n",
    "The RandomForestRegressor model took the longest amount of time to tune its hyperparameters (wall time: 35 minutes 13 seconds). On the validation data set, it produced an RMSE value of 1283.4359135336733.\n",
    "\n",
    "The LightGBM model used gradient boosting methods and was signifigantly quicker during hyperparameter tuning (wall time 2 minutes 23 seconds). On the validation set, it produced an RMSE value of 1273.04806354423.\n",
    "\n",
    "Both of these models were compared to a Linear Regression model. This model ran quickly (just over 1 minute from model creation to RMSE calculation total). However on the validation set, it produced the highest RMSE value of 1898.2686518542014.\n",
    "\n",
    "Given that the LightGBM model produced the most accurate results and was relatively fast compared to the RandomForest Regression model, this model makes the most sense to use for used car sales predictions. This model has the ability to predict used car values in a moderately fast amount of time, which will appeal to customers using the Rusty Bargain app. On the test data set, the LightGBM model predicted the results with an RMSE score of 1277.0534915036728 and did it with a wall time of 1.34 seconds! Not bad!\n",
    "\n",
    "Overall I would suggest the LightGBM model to Rusty Bargain to predict sales in used cars, as it produced the most accurate results in a moderately fast amount of time. "
   ]
  },
  {
   "cell_type": "markdown",
   "metadata": {},
   "source": [
    "# Checklist"
   ]
  },
  {
   "cell_type": "markdown",
   "metadata": {},
   "source": [
    "Type 'x' to check. Then press Shift+Enter."
   ]
  },
  {
   "cell_type": "markdown",
   "metadata": {},
   "source": [
    "- [x]  Jupyter Notebook is open\n",
    "- [x ]  Code is error free\n",
    "- [x ]  The cells with the code have been arranged in order of execution\n",
    "- [x ]  The data has been downloaded and prepared\n",
    "- [x ]  The models have been trained\n",
    "- [x ]  The analysis of speed and quality of the models has been performed"
   ]
  }
 ],
 "metadata": {
  "ExecuteTimeLog": [
   {
    "duration": 296,
    "start_time": "2025-05-07T16:13:35.039Z"
   },
   {
    "duration": 499,
    "start_time": "2025-05-07T16:13:50.107Z"
   },
   {
    "duration": 432,
    "start_time": "2025-05-07T16:14:01.384Z"
   },
   {
    "duration": 495,
    "start_time": "2025-05-07T16:14:45.440Z"
   },
   {
    "duration": 912,
    "start_time": "2025-05-07T16:19:22.806Z"
   },
   {
    "duration": 774,
    "start_time": "2025-05-07T16:20:32.705Z"
   },
   {
    "duration": 329,
    "start_time": "2025-05-07T16:53:20.512Z"
   },
   {
    "duration": 558,
    "start_time": "2025-05-07T16:53:21.542Z"
   },
   {
    "duration": 842,
    "start_time": "2025-05-07T16:53:22.893Z"
   },
   {
    "duration": 90,
    "start_time": "2025-05-07T16:53:33.627Z"
   },
   {
    "duration": 95,
    "start_time": "2025-05-07T16:58:56.153Z"
   },
   {
    "duration": 2,
    "start_time": "2025-05-07T17:22:37.479Z"
   },
   {
    "duration": 189,
    "start_time": "2025-05-07T17:23:00.348Z"
   },
   {
    "duration": 3,
    "start_time": "2025-05-07T17:24:53.582Z"
   },
   {
    "duration": 12,
    "start_time": "2025-05-07T17:25:06.471Z"
   },
   {
    "duration": 172,
    "start_time": "2025-05-07T17:26:44.794Z"
   },
   {
    "duration": 178,
    "start_time": "2025-05-07T17:27:05.231Z"
   },
   {
    "duration": 168,
    "start_time": "2025-05-07T17:27:51.400Z"
   },
   {
    "duration": 376,
    "start_time": "2025-05-07T17:28:30.575Z"
   },
   {
    "duration": 505,
    "start_time": "2025-05-07T17:29:02.288Z"
   },
   {
    "duration": 281,
    "start_time": "2025-05-07T17:29:13.459Z"
   },
   {
    "duration": 552,
    "start_time": "2025-05-07T17:29:13.742Z"
   },
   {
    "duration": 902,
    "start_time": "2025-05-07T17:29:14.298Z"
   },
   {
    "duration": 706,
    "start_time": "2025-05-07T17:29:15.203Z"
   },
   {
    "duration": 2,
    "start_time": "2025-05-07T17:29:15.911Z"
   },
   {
    "duration": 748,
    "start_time": "2025-05-07T17:29:44.430Z"
   },
   {
    "duration": 27,
    "start_time": "2025-05-07T17:38:43.003Z"
   },
   {
    "duration": 505,
    "start_time": "2025-05-07T17:38:50.015Z"
   },
   {
    "duration": 32,
    "start_time": "2025-05-07T17:38:57.600Z"
   },
   {
    "duration": 14,
    "start_time": "2025-05-07T17:39:12.010Z"
   },
   {
    "duration": 208,
    "start_time": "2025-05-07T17:39:51.331Z"
   },
   {
    "duration": 30,
    "start_time": "2025-05-07T17:40:49.388Z"
   },
   {
    "duration": 316,
    "start_time": "2025-05-07T17:40:57.930Z"
   },
   {
    "duration": 544,
    "start_time": "2025-05-07T17:40:58.248Z"
   },
   {
    "duration": 852,
    "start_time": "2025-05-07T17:40:58.793Z"
   },
   {
    "duration": 781,
    "start_time": "2025-05-07T17:40:59.646Z"
   },
   {
    "duration": 116,
    "start_time": "2025-05-07T17:41:00.430Z"
   },
   {
    "duration": 2,
    "start_time": "2025-05-07T17:41:00.548Z"
   },
   {
    "duration": 26,
    "start_time": "2025-05-07T17:46:51.586Z"
   },
   {
    "duration": 117,
    "start_time": "2025-05-07T17:47:34.033Z"
   },
   {
    "duration": 131,
    "start_time": "2025-05-07T17:49:03.712Z"
   },
   {
    "duration": 131,
    "start_time": "2025-05-07T17:49:13.137Z"
   },
   {
    "duration": 94,
    "start_time": "2025-05-07T17:49:42.515Z"
   },
   {
    "duration": 37,
    "start_time": "2025-05-07T17:49:45.788Z"
   },
   {
    "duration": 112,
    "start_time": "2025-05-07T17:54:37.833Z"
   },
   {
    "duration": 122,
    "start_time": "2025-05-07T17:54:52.023Z"
   },
   {
    "duration": 36,
    "start_time": "2025-05-07T17:57:27.437Z"
   },
   {
    "duration": 36,
    "start_time": "2025-05-07T17:57:58.443Z"
   },
   {
    "duration": 114,
    "start_time": "2025-05-07T18:02:20.398Z"
   },
   {
    "duration": 38,
    "start_time": "2025-05-07T18:03:05.985Z"
   },
   {
    "duration": 323,
    "start_time": "2025-05-08T17:12:35.448Z"
   },
   {
    "duration": 570,
    "start_time": "2025-05-08T17:12:35.773Z"
   },
   {
    "duration": 882,
    "start_time": "2025-05-08T17:12:36.345Z"
   },
   {
    "duration": 809,
    "start_time": "2025-05-08T17:12:37.230Z"
   },
   {
    "duration": 104,
    "start_time": "2025-05-08T17:12:38.040Z"
   },
   {
    "duration": 115,
    "start_time": "2025-05-08T17:12:38.145Z"
   },
   {
    "duration": 114,
    "start_time": "2025-05-08T17:12:38.261Z"
   },
   {
    "duration": 38,
    "start_time": "2025-05-08T17:12:38.377Z"
   },
   {
    "duration": 66,
    "start_time": "2025-05-08T17:12:38.417Z"
   },
   {
    "duration": 3,
    "start_time": "2025-05-08T17:12:38.487Z"
   },
   {
    "duration": 4,
    "start_time": "2025-05-08T17:12:38.491Z"
   },
   {
    "duration": 37,
    "start_time": "2025-05-08T17:14:23.043Z"
   },
   {
    "duration": 107,
    "start_time": "2025-05-08T17:17:06.872Z"
   },
   {
    "duration": 36,
    "start_time": "2025-05-08T17:18:25.330Z"
   },
   {
    "duration": 108,
    "start_time": "2025-05-08T17:19:09.669Z"
   },
   {
    "duration": 106,
    "start_time": "2025-05-08T17:19:43.718Z"
   },
   {
    "duration": 168,
    "start_time": "2025-05-08T17:23:03.655Z"
   },
   {
    "duration": 170,
    "start_time": "2025-05-08T17:24:49.920Z"
   },
   {
    "duration": 2,
    "start_time": "2025-05-08T17:31:34.243Z"
   },
   {
    "duration": 254,
    "start_time": "2025-05-08T18:26:51.036Z"
   },
   {
    "duration": 277,
    "start_time": "2025-05-08T18:27:27.402Z"
   },
   {
    "duration": 293,
    "start_time": "2025-05-08T18:30:24.223Z"
   },
   {
    "duration": 564,
    "start_time": "2025-05-08T18:44:11.667Z"
   },
   {
    "duration": 270,
    "start_time": "2025-05-08T18:44:26.706Z"
   },
   {
    "duration": 514,
    "start_time": "2025-05-08T18:44:26.978Z"
   },
   {
    "duration": 868,
    "start_time": "2025-05-08T18:44:27.494Z"
   },
   {
    "duration": 821,
    "start_time": "2025-05-08T18:44:28.364Z"
   },
   {
    "duration": 109,
    "start_time": "2025-05-08T18:44:29.187Z"
   },
   {
    "duration": 128,
    "start_time": "2025-05-08T18:44:29.298Z"
   },
   {
    "duration": 116,
    "start_time": "2025-05-08T18:44:29.428Z"
   },
   {
    "duration": 117,
    "start_time": "2025-05-08T18:44:29.546Z"
   },
   {
    "duration": 114,
    "start_time": "2025-05-08T18:44:29.666Z"
   },
   {
    "duration": 114,
    "start_time": "2025-05-08T18:44:29.783Z"
   },
   {
    "duration": 193,
    "start_time": "2025-05-08T18:44:29.898Z"
   },
   {
    "duration": 326,
    "start_time": "2025-05-08T18:44:30.093Z"
   },
   {
    "duration": 3,
    "start_time": "2025-05-08T18:44:30.420Z"
   },
   {
    "duration": 4,
    "start_time": "2025-05-08T18:44:30.424Z"
   },
   {
    "duration": 590,
    "start_time": "2025-05-08T18:44:38.513Z"
   },
   {
    "duration": 305,
    "start_time": "2025-05-08T18:44:52.739Z"
   },
   {
    "duration": 516,
    "start_time": "2025-05-08T18:44:53.046Z"
   },
   {
    "duration": 896,
    "start_time": "2025-05-08T18:44:53.564Z"
   },
   {
    "duration": 787,
    "start_time": "2025-05-08T18:44:54.462Z"
   },
   {
    "duration": 105,
    "start_time": "2025-05-08T18:44:55.251Z"
   },
   {
    "duration": 116,
    "start_time": "2025-05-08T18:44:55.358Z"
   },
   {
    "duration": 117,
    "start_time": "2025-05-08T18:44:55.475Z"
   },
   {
    "duration": 114,
    "start_time": "2025-05-08T18:44:55.595Z"
   },
   {
    "duration": 117,
    "start_time": "2025-05-08T18:44:55.711Z"
   },
   {
    "duration": 120,
    "start_time": "2025-05-08T18:44:55.831Z"
   },
   {
    "duration": 173,
    "start_time": "2025-05-08T18:44:55.954Z"
   },
   {
    "duration": 307,
    "start_time": "2025-05-08T18:44:56.129Z"
   },
   {
    "duration": 2,
    "start_time": "2025-05-08T18:44:56.443Z"
   },
   {
    "duration": 3,
    "start_time": "2025-05-08T18:44:56.447Z"
   },
   {
    "duration": 357,
    "start_time": "2025-05-08T18:46:48.203Z"
   },
   {
    "duration": 314,
    "start_time": "2025-05-09T01:43:33.354Z"
   },
   {
    "duration": 681,
    "start_time": "2025-05-09T01:43:33.670Z"
   },
   {
    "duration": 868,
    "start_time": "2025-05-09T01:43:34.353Z"
   },
   {
    "duration": 797,
    "start_time": "2025-05-09T01:43:35.222Z"
   },
   {
    "duration": 111,
    "start_time": "2025-05-09T01:43:36.022Z"
   },
   {
    "duration": 116,
    "start_time": "2025-05-09T01:43:36.136Z"
   },
   {
    "duration": 133,
    "start_time": "2025-05-09T01:43:36.254Z"
   },
   {
    "duration": 121,
    "start_time": "2025-05-09T01:43:36.388Z"
   },
   {
    "duration": 122,
    "start_time": "2025-05-09T01:43:36.511Z"
   },
   {
    "duration": 116,
    "start_time": "2025-05-09T01:43:36.634Z"
   },
   {
    "duration": 204,
    "start_time": "2025-05-09T01:43:36.752Z"
   },
   {
    "duration": 423,
    "start_time": "2025-05-09T01:43:36.958Z"
   },
   {
    "duration": 350,
    "start_time": "2025-05-09T01:43:37.382Z"
   },
   {
    "duration": 3,
    "start_time": "2025-05-09T01:43:37.736Z"
   },
   {
    "duration": 509,
    "start_time": "2025-05-09T01:46:33.864Z"
   },
   {
    "duration": 926,
    "start_time": "2025-05-09T01:48:29.674Z"
   },
   {
    "duration": 98,
    "start_time": "2025-05-09T01:48:39.726Z"
   },
   {
    "duration": 1017,
    "start_time": "2025-05-09T01:50:44.790Z"
   },
   {
    "duration": 1157,
    "start_time": "2025-05-09T01:50:51.466Z"
   },
   {
    "duration": 32,
    "start_time": "2025-05-09T01:58:32.958Z"
   },
   {
    "duration": 15306,
    "start_time": "2025-05-09T01:58:44.579Z"
   },
   {
    "duration": 3,
    "start_time": "2025-05-09T01:59:52.575Z"
   },
   {
    "duration": 3,
    "start_time": "2025-05-09T02:10:49.123Z"
   },
   {
    "duration": 802,
    "start_time": "2025-05-09T22:57:27.060Z"
   },
   {
    "duration": 561,
    "start_time": "2025-05-09T22:57:27.864Z"
   },
   {
    "duration": 875,
    "start_time": "2025-05-09T22:57:28.426Z"
   },
   {
    "duration": 814,
    "start_time": "2025-05-09T22:57:29.303Z"
   },
   {
    "duration": 114,
    "start_time": "2025-05-09T22:57:30.123Z"
   },
   {
    "duration": 111,
    "start_time": "2025-05-09T22:57:30.239Z"
   },
   {
    "duration": 114,
    "start_time": "2025-05-09T22:57:30.352Z"
   },
   {
    "duration": 118,
    "start_time": "2025-05-09T22:57:30.468Z"
   },
   {
    "duration": 118,
    "start_time": "2025-05-09T22:57:30.588Z"
   },
   {
    "duration": 122,
    "start_time": "2025-05-09T22:57:30.708Z"
   },
   {
    "duration": 173,
    "start_time": "2025-05-09T22:57:30.831Z"
   },
   {
    "duration": 308,
    "start_time": "2025-05-09T22:57:31.005Z"
   },
   {
    "duration": 344,
    "start_time": "2025-05-09T22:57:31.315Z"
   },
   {
    "duration": 842,
    "start_time": "2025-05-09T22:57:31.662Z"
   },
   {
    "duration": 3,
    "start_time": "2025-05-09T22:57:32.506Z"
   },
   {
    "duration": 546248,
    "start_time": "2025-05-09T22:57:32.511Z"
   },
   {
    "duration": 0,
    "start_time": "2025-05-09T23:06:38.761Z"
   },
   {
    "duration": 22320,
    "start_time": "2025-05-09T23:07:35.404Z"
   },
   {
    "duration": 543628,
    "start_time": "2025-05-09T23:09:04.001Z"
   },
   {
    "duration": 95578,
    "start_time": "2025-05-09T23:34:00.886Z"
   },
   {
    "duration": 94446,
    "start_time": "2025-05-09T23:42:20.441Z"
   },
   {
    "duration": 101,
    "start_time": "2025-05-09T23:48:00.134Z"
   },
   {
    "duration": 837,
    "start_time": "2025-05-10T01:03:11.995Z"
   },
   {
    "duration": 557,
    "start_time": "2025-05-10T01:03:12.834Z"
   },
   {
    "duration": 863,
    "start_time": "2025-05-10T01:03:13.392Z"
   },
   {
    "duration": 784,
    "start_time": "2025-05-10T01:03:14.258Z"
   },
   {
    "duration": 100,
    "start_time": "2025-05-10T01:03:15.044Z"
   },
   {
    "duration": 120,
    "start_time": "2025-05-10T01:03:15.145Z"
   },
   {
    "duration": 116,
    "start_time": "2025-05-10T01:03:15.267Z"
   },
   {
    "duration": 115,
    "start_time": "2025-05-10T01:03:15.385Z"
   },
   {
    "duration": 118,
    "start_time": "2025-05-10T01:03:15.502Z"
   },
   {
    "duration": 112,
    "start_time": "2025-05-10T01:03:15.623Z"
   },
   {
    "duration": 168,
    "start_time": "2025-05-10T01:03:15.736Z"
   },
   {
    "duration": 300,
    "start_time": "2025-05-10T01:03:15.906Z"
   },
   {
    "duration": 340,
    "start_time": "2025-05-10T01:03:16.208Z"
   },
   {
    "duration": 836,
    "start_time": "2025-05-10T01:03:16.550Z"
   },
   {
    "duration": 537859,
    "start_time": "2025-05-10T01:03:17.388Z"
   },
   {
    "duration": 5,
    "start_time": "2025-05-10T01:12:15.249Z"
   },
   {
    "duration": 0,
    "start_time": "2025-05-10T01:12:15.256Z"
   },
   {
    "duration": 0,
    "start_time": "2025-05-10T01:12:15.257Z"
   },
   {
    "duration": 0,
    "start_time": "2025-05-10T01:12:15.259Z"
   },
   {
    "duration": 94382,
    "start_time": "2025-05-10T01:14:31.844Z"
   },
   {
    "duration": 111,
    "start_time": "2025-05-10T03:00:08.402Z"
   },
   {
    "duration": 861,
    "start_time": "2025-05-10T03:00:17.511Z"
   },
   {
    "duration": 657,
    "start_time": "2025-05-10T03:00:18.374Z"
   },
   {
    "duration": 952,
    "start_time": "2025-05-10T03:00:19.033Z"
   },
   {
    "duration": 843,
    "start_time": "2025-05-10T03:00:20.696Z"
   },
   {
    "duration": 99,
    "start_time": "2025-05-10T03:00:22.147Z"
   },
   {
    "duration": 114,
    "start_time": "2025-05-10T03:00:23.708Z"
   },
   {
    "duration": 118,
    "start_time": "2025-05-10T03:00:24.886Z"
   },
   {
    "duration": 114,
    "start_time": "2025-05-10T03:00:25.547Z"
   },
   {
    "duration": 118,
    "start_time": "2025-05-10T03:00:26.571Z"
   },
   {
    "duration": 119,
    "start_time": "2025-05-10T03:00:28.296Z"
   },
   {
    "duration": 173,
    "start_time": "2025-05-10T03:00:29.333Z"
   },
   {
    "duration": 319,
    "start_time": "2025-05-10T03:00:30.559Z"
   },
   {
    "duration": 361,
    "start_time": "2025-05-10T03:00:34.022Z"
   },
   {
    "duration": 922,
    "start_time": "2025-05-10T03:00:34.884Z"
   },
   {
    "duration": 909,
    "start_time": "2025-05-10T03:00:55.140Z"
   },
   {
    "duration": 11,
    "start_time": "2025-05-10T03:04:32.264Z"
   },
   {
    "duration": 80436,
    "start_time": "2025-05-10T03:05:16.408Z"
   },
   {
    "duration": 244,
    "start_time": "2025-05-10T03:07:33.182Z"
   },
   {
    "duration": 18108,
    "start_time": "2025-05-10T03:09:19.841Z"
   },
   {
    "duration": 11773,
    "start_time": "2025-05-10T03:09:51.674Z"
   },
   {
    "duration": 11714,
    "start_time": "2025-05-10T03:10:23.229Z"
   },
   {
    "duration": 65957,
    "start_time": "2025-05-10T03:14:22.313Z"
   },
   {
    "duration": 12004,
    "start_time": "2025-05-10T03:18:40.167Z"
   },
   {
    "duration": 801,
    "start_time": "2025-05-10T13:03:58.631Z"
   },
   {
    "duration": 571,
    "start_time": "2025-05-10T13:03:59.497Z"
   },
   {
    "duration": 845,
    "start_time": "2025-05-10T13:04:00.442Z"
   },
   {
    "duration": 771,
    "start_time": "2025-05-10T13:04:04.539Z"
   },
   {
    "duration": 508,
    "start_time": "2025-05-10T13:04:09.177Z"
   },
   {
    "duration": 32,
    "start_time": "2025-05-10T13:04:49.960Z"
   },
   {
    "duration": 93,
    "start_time": "2025-05-10T13:05:28.751Z"
   },
   {
    "duration": 32,
    "start_time": "2025-05-10T13:05:33.301Z"
   },
   {
    "duration": 32,
    "start_time": "2025-05-10T13:05:46.483Z"
   },
   {
    "duration": 519,
    "start_time": "2025-05-10T13:05:59.840Z"
   },
   {
    "duration": 31,
    "start_time": "2025-05-10T13:06:09.656Z"
   },
   {
    "duration": 833,
    "start_time": "2025-05-10T13:06:44.862Z"
   },
   {
    "duration": 506,
    "start_time": "2025-05-10T13:06:46.628Z"
   },
   {
    "duration": 854,
    "start_time": "2025-05-10T13:06:48.047Z"
   },
   {
    "duration": 815,
    "start_time": "2025-05-10T13:06:50.948Z"
   },
   {
    "duration": 102,
    "start_time": "2025-05-10T13:07:00.005Z"
   },
   {
    "duration": 600,
    "start_time": "2025-05-10T13:07:09.006Z"
   },
   {
    "duration": 107,
    "start_time": "2025-05-10T13:07:41.203Z"
   },
   {
    "duration": 112,
    "start_time": "2025-05-10T13:07:57.867Z"
   },
   {
    "duration": 107,
    "start_time": "2025-05-10T13:08:12.696Z"
   },
   {
    "duration": 112,
    "start_time": "2025-05-10T13:08:39.741Z"
   },
   {
    "duration": 107,
    "start_time": "2025-05-10T13:09:07.881Z"
   },
   {
    "duration": 164,
    "start_time": "2025-05-10T13:09:14.356Z"
   },
   {
    "duration": 302,
    "start_time": "2025-05-10T13:09:35.042Z"
   },
   {
    "duration": 10,
    "start_time": "2025-05-10T13:12:09.867Z"
   },
   {
    "duration": 4,
    "start_time": "2025-05-10T13:13:29.745Z"
   },
   {
    "duration": 11,
    "start_time": "2025-05-10T13:13:56.352Z"
   },
   {
    "duration": 43,
    "start_time": "2025-05-10T13:15:10.211Z"
   },
   {
    "duration": 2039,
    "start_time": "2025-05-10T13:15:24.918Z"
   },
   {
    "duration": 102,
    "start_time": "2025-05-10T13:16:15.231Z"
   },
   {
    "duration": 110,
    "start_time": "2025-05-10T13:16:31.742Z"
   },
   {
    "duration": 4,
    "start_time": "2025-05-10T13:16:50.925Z"
   },
   {
    "duration": 214,
    "start_time": "2025-05-10T13:17:28.288Z"
   },
   {
    "duration": 384,
    "start_time": "2025-05-10T13:24:09.092Z"
   },
   {
    "duration": 103,
    "start_time": "2025-05-10T13:29:33.278Z"
   },
   {
    "duration": 127,
    "start_time": "2025-05-10T13:31:59.214Z"
   },
   {
    "duration": 107,
    "start_time": "2025-05-10T13:33:33.799Z"
   },
   {
    "duration": 109,
    "start_time": "2025-05-10T13:35:52.221Z"
   },
   {
    "duration": 203,
    "start_time": "2025-05-10T13:51:43.447Z"
   },
   {
    "duration": 998,
    "start_time": "2025-05-10T13:52:02.453Z"
   },
   {
    "duration": 667,
    "start_time": "2025-05-10T13:52:04.253Z"
   },
   {
    "duration": 983,
    "start_time": "2025-05-10T13:52:05.498Z"
   },
   {
    "duration": 896,
    "start_time": "2025-05-10T13:52:07.966Z"
   },
   {
    "duration": 128,
    "start_time": "2025-05-10T13:52:09.862Z"
   },
   {
    "duration": 128,
    "start_time": "2025-05-10T13:52:12.317Z"
   },
   {
    "duration": 124,
    "start_time": "2025-05-10T13:52:14.196Z"
   },
   {
    "duration": 129,
    "start_time": "2025-05-10T13:52:15.262Z"
   },
   {
    "duration": 125,
    "start_time": "2025-05-10T13:52:16.380Z"
   },
   {
    "duration": 134,
    "start_time": "2025-05-10T13:52:17.249Z"
   },
   {
    "duration": 200,
    "start_time": "2025-05-10T13:52:18.096Z"
   },
   {
    "duration": 377,
    "start_time": "2025-05-10T13:52:19.740Z"
   },
   {
    "duration": 55,
    "start_time": "2025-05-10T13:52:22.523Z"
   },
   {
    "duration": 358,
    "start_time": "2025-05-10T13:52:23.456Z"
   },
   {
    "duration": 976,
    "start_time": "2025-05-10T13:53:15.218Z"
   },
   {
    "duration": 668,
    "start_time": "2025-05-10T13:53:16.632Z"
   },
   {
    "duration": 999,
    "start_time": "2025-05-10T13:53:17.302Z"
   },
   {
    "duration": 1001,
    "start_time": "2025-05-10T13:53:21.512Z"
   },
   {
    "duration": 890,
    "start_time": "2025-05-10T13:53:24.690Z"
   },
   {
    "duration": 114,
    "start_time": "2025-05-10T13:53:32.199Z"
   },
   {
    "duration": 125,
    "start_time": "2025-05-10T13:53:35.972Z"
   },
   {
    "duration": 124,
    "start_time": "2025-05-10T13:53:37.625Z"
   },
   {
    "duration": 125,
    "start_time": "2025-05-10T13:53:38.674Z"
   },
   {
    "duration": 127,
    "start_time": "2025-05-10T13:53:39.263Z"
   },
   {
    "duration": 123,
    "start_time": "2025-05-10T13:53:40.080Z"
   },
   {
    "duration": 195,
    "start_time": "2025-05-10T13:53:41.012Z"
   },
   {
    "duration": 357,
    "start_time": "2025-05-10T13:53:43.575Z"
   },
   {
    "duration": 59,
    "start_time": "2025-05-10T13:53:46.128Z"
   },
   {
    "duration": 366,
    "start_time": "2025-05-10T13:53:47.198Z"
   },
   {
    "duration": 146,
    "start_time": "2025-05-10T13:53:50.129Z"
   },
   {
    "duration": 1034,
    "start_time": "2025-05-10T14:03:59.456Z"
   },
   {
    "duration": 619,
    "start_time": "2025-05-10T14:04:01.830Z"
   },
   {
    "duration": 1011,
    "start_time": "2025-05-10T14:04:05.948Z"
   },
   {
    "duration": 885,
    "start_time": "2025-05-10T14:04:09.210Z"
   },
   {
    "duration": 883,
    "start_time": "2025-05-10T14:04:11.838Z"
   },
   {
    "duration": 120,
    "start_time": "2025-05-10T14:04:14.617Z"
   },
   {
    "duration": 121,
    "start_time": "2025-05-10T14:04:16.407Z"
   },
   {
    "duration": 119,
    "start_time": "2025-05-10T14:04:17.882Z"
   },
   {
    "duration": 123,
    "start_time": "2025-05-10T14:04:18.426Z"
   },
   {
    "duration": 115,
    "start_time": "2025-05-10T14:04:19.507Z"
   },
   {
    "duration": 176,
    "start_time": "2025-05-10T14:04:20.175Z"
   },
   {
    "duration": 333,
    "start_time": "2025-05-10T14:04:21.885Z"
   },
   {
    "duration": 59,
    "start_time": "2025-05-10T14:04:24.215Z"
   },
   {
    "duration": 351,
    "start_time": "2025-05-10T14:04:25.085Z"
   },
   {
    "duration": 122,
    "start_time": "2025-05-10T14:04:27.364Z"
   }
  ],
  "kernelspec": {
   "display_name": "Python 3 (ipykernel)",
   "language": "python",
   "name": "python3"
  },
  "language_info": {
   "codemirror_mode": {
    "name": "ipython",
    "version": 3
   },
   "file_extension": ".py",
   "mimetype": "text/x-python",
   "name": "python",
   "nbconvert_exporter": "python",
   "pygments_lexer": "ipython3",
   "version": "3.9.22"
  },
  "toc": {
   "base_numbering": 1,
   "nav_menu": {
    "height": "218px",
    "width": "435px"
   },
   "number_sections": true,
   "sideBar": true,
   "skip_h1_title": true,
   "title_cell": "Table of Contents",
   "title_sidebar": "Contents",
   "toc_cell": false,
   "toc_position": {},
   "toc_section_display": true,
   "toc_window_display": false
  }
 },
 "nbformat": 4,
 "nbformat_minor": 4
}
